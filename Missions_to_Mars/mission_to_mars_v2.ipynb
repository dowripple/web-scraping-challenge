{
 "cells": [
  {
   "cell_type": "markdown",
   "metadata": {},
   "source": [
    "# Mission To Mars - Homework\n",
    "## by Michael Dowlin\n",
    "### 1/12/2020"
   ]
  },
  {
   "cell_type": "markdown",
   "metadata": {},
   "source": [
    "## Import Dependencies"
   ]
  },
  {
   "cell_type": "code",
   "execution_count": 1,
   "metadata": {},
   "outputs": [],
   "source": [
    "import pandas as pd\n",
    "from bs4 import BeautifulSoup as bs\n",
    "import requests\n",
    "from splinter import Browser"
   ]
  },
  {
   "cell_type": "markdown",
   "metadata": {},
   "source": [
    "## Scraping\n",
    "Scrape the Mars website and setup the bs, lol"
   ]
  },
  {
   "cell_type": "code",
   "execution_count": 2,
   "metadata": {},
   "outputs": [],
   "source": [
    "# Defining the url for the mars website\n",
    "url = 'https://mars.nasa.gov/news/'\n",
    "\n",
    "# return the rendered html\n",
    "response = requests.get(url)\n",
    "\n",
    "# create the bs object\n",
    "space_bs = bs(response.text, 'html.parser')"
   ]
  },
  {
   "cell_type": "markdown",
   "metadata": {},
   "source": [
    "### Nasa Mars News\n",
    "#### Using bs to look at article divs\n",
    "To get the first article's title, I used the in-browser tool to find the class \"content_title\", which is used by the div containing the news article title.  "
   ]
  },
  {
   "cell_type": "code",
   "execution_count": 3,
   "metadata": {},
   "outputs": [
    {
     "data": {
      "text/plain": [
       "<div class=\"content_title\">\n",
       "<a href=\"/news/8508/nasa-invites-students-to-name-mars-2020-rover/\">\n",
       "NASA Invites Students to Name Mars 2020 Rover\n",
       "</a>\n",
       "</div>"
      ]
     },
     "execution_count": 3,
     "metadata": {},
     "output_type": "execute_result"
    }
   ],
   "source": [
    "# return the first article div\n",
    "title_div = space_bs.find('div', class_='content_title')\n",
    "\n",
    "# check out the results...\n",
    "title_div"
   ]
  },
  {
   "cell_type": "markdown",
   "metadata": {},
   "source": [
    "#### Get the article title"
   ]
  },
  {
   "cell_type": "code",
   "execution_count": 4,
   "metadata": {},
   "outputs": [
    {
     "name": "stdout",
     "output_type": "stream",
     "text": [
      "The first new's article title is: \"NASA Invites Students to Name Mars 2020 Rover\"\n"
     ]
    }
   ],
   "source": [
    "# grab the text from the only anchor (a) tag in the div, stripping the new line\n",
    "article_title = title_div.a.text.strip('\\n')\n",
    "\n",
    "# printing out the top article title\n",
    "print(f'The first new\\'s article title is: \"{article_title}\"')"
   ]
  },
  {
   "cell_type": "markdown",
   "metadata": {},
   "source": [
    "#### Now get the paragraph description, and paragraph text"
   ]
  },
  {
   "cell_type": "code",
   "execution_count": 5,
   "metadata": {},
   "outputs": [
    {
     "name": "stdout",
     "output_type": "stream",
     "text": [
      "The paragraph text describing the article is: \n",
      "\"Through Nov. 1, K-12 students in the U.S. are encouraged to enter an essay contest to name NASA's next Mars rover.\"\n"
     ]
    }
   ],
   "source": [
    "# div containing the paragraph, found by looking for the class \"rollover_description_inner\"\n",
    "p_div = space_bs.find('div',class_='rollover_description_inner')\n",
    "\n",
    "# grab the text from the div, stripping out the new line\n",
    "article_p = p_div.text.strip('\\n')\n",
    "\n",
    "# printing the paragraph for the article\n",
    "print(f'The paragraph text describing the article is: \\n\"{article_p}\"')"
   ]
  },
  {
   "cell_type": "markdown",
   "metadata": {},
   "source": [
    "### JPL Mars Space Images - Featured Image\n",
    "Using a chrome-driver for the splinter portion, and bs to get the image and stuff"
   ]
  },
  {
   "cell_type": "code",
   "execution_count": 9,
   "metadata": {},
   "outputs": [],
   "source": [
    "# Using splinter, setup a Chrome browser\n",
    "browser = Browser('chrome')\n",
    "\n",
    "# navigate to image page\n",
    "browser.visit('https://www.jpl.nasa.gov/spaceimages/?search=&category=Mars')\n",
    "\n",
    "# # parse the html with some bs\n",
    "image_bs = bs(browser.html, 'html.parser')\n",
    "# image_bs"
   ]
  },
  {
   "cell_type": "markdown",
   "metadata": {},
   "source": [
    "#### Getting the image url for the variable \"featured_image_url\""
   ]
  },
  {
   "cell_type": "code",
   "execution_count": 21,
   "metadata": {},
   "outputs": [
    {
     "name": "stdout",
     "output_type": "stream",
     "text": [
      "Featured image\n",
      "Title: Sacra Mensa\n",
      "URL: https://www.jpl.nasa.gov/spaceimages/images/wallpaper/PIA23634-640x350.jpg\n"
     ]
    }
   ],
   "source": [
    "# grab the image div\n",
    "img_div = image_bs.find('div', class_=\"img\")\n",
    "\n",
    "# find the img object\n",
    "img = img_div.find('img')\n",
    "\n",
    "# get the image object's source\n",
    "img_src = img['src']\n",
    "\n",
    "# checking out the string, turns out a partial URL path\n",
    "# print(img_src)\n",
    "\n",
    "# since it is not a full URL path, add the base (jpl.nasa.gov) to the source\n",
    "# setting up the image base url\n",
    "base_url = 'https://www.jpl.nasa.gov'\n",
    "\n",
    "# setting the featured image url (base + image_id)\n",
    "featured_image_url = base_url + img_src\n",
    "\n",
    "# grabbing the image title too, it may come in handy later\n",
    "featured_image_title = img['title']\n",
    "\n",
    "# checking work\n",
    "print(f'Featured image\\nTitle: {featured_image_title}\\nURL: {featured_image_url}')"
   ]
  },
  {
   "cell_type": "markdown",
   "metadata": {},
   "source": [
    "### Mars Facts\n"
   ]
  },
  {
   "cell_type": "code",
   "execution_count": 31,
   "metadata": {},
   "outputs": [],
   "source": [
    "# Using splinter, setup a Chrome browser\n",
    "browser = Browser('chrome')\n",
    "\n",
    "# navigate to image page\n",
    "browser.visit('https://space-facts.com/mars/')\n",
    "\n",
    "# # parse the html with some bs\n",
    "facts_bs = bs(browser.html, 'html.parser')"
   ]
  },
  {
   "cell_type": "markdown",
   "metadata": {},
   "source": [
    "#### Just the facts"
   ]
  },
  {
   "cell_type": "code",
   "execution_count": 61,
   "metadata": {},
   "outputs": [
    {
     "data": {
      "text/plain": [
       "'<table border=\"1\" class=\"dataframe table table-striped\">\\n  <thead>\\n    <tr style=\"text-align: right;\">\\n      <th></th>\\n      <th>fact_id</th>\\n      <th>fact_title</th>\\n      <th>fact</th>\\n    </tr>\\n  </thead>\\n  <tbody>\\n    <tr>\\n      <th>0</th>\\n      <td>0</td>\\n      <td>Mars and Earth have approximately the same landmass.</td>\\n      <td>Mars and Earth have approximately the same landmass.Even though Mars has only 15% of the Earth’s volume and just over 10% of the Earth’s mass, around two thirds of the Earth’s surface is covered in water. Martian surface gravity is only 37% of the Earth’s (meaning you could leap nearly three times higher on Mars).</td>\\n    </tr>\\n    <tr>\\n      <th>1</th>\\n      <td>1</td>\\n      <td>Mars is home to the tallest mountain in the solar system.</td>\\n      <td>Mars is home to the tallest mountain in the solar system.Olympus Mons, a shield volcano, is 21km high and 600km in diameter. Despite having formed over billions of years, evidence from volcanic lava flows is so recent many scientists believe it could still be active.</td>\\n    </tr>\\n    <tr>\\n      <th>2</th>\\n      <td>2</td>\\n      <td>Only 18 missions to Mars have been successful.</td>\\n      <td>Only 18 missions to Mars have been successful.As of September 2014 there have been 40 missions to Mars, including orbiters, landers and rovers but not counting flybys. The most recent arrivals include the Mars Curiosity mission in 2012, the MAVEN mission, which arrived on September 22, 2014, followed by the Indian Space Research Organization’s MOM Mangalyaan orbiter, which arrived on September 24, 2014. The next missions to arrive will be the European Space Agency’s ExoMars mission, comprising an orbiter, lander, and a rover, followed by NASA’s InSight robotic lander mission, slated for launch in March 2016 and a planned arrival in September, 2016.</td>\\n    </tr>\\n    <tr>\\n      <th>3</th>\\n      <td>3</td>\\n      <td>Mars has the largest dust storms in the solar system.</td>\\n      <td>Mars has the largest dust storms in the solar system.They can last for months and cover the entire planet. The seasons are extreme because its elliptical (oval-shaped) orbital path around the Sun is more elongated than most other planets in the solar system.</td>\\n    </tr>\\n    <tr>\\n      <th>4</th>\\n      <td>4</td>\\n      <td>On Mars the Sun appears about half the size as it does on Earth.</td>\\n      <td>On Mars the Sun appears about half the size as it does on Earth.At the closest point to the Sun, the Martian southern hemisphere leans towards the Sun, causing a short, intensely hot summer, while the northern hemisphere endures a brief, cold winter: at its farthest point from the Sun, the Martian northern hemisphere leans towards the Sun, causing a long, mild summer, while the southern hemisphere endures a lengthy, cold winter.</td>\\n    </tr>\\n    <tr>\\n      <th>5</th>\\n      <td>5</td>\\n      <td>Pieces of Mars have fallen to Earth.</td>\\n      <td>Pieces of Mars have fallen to Earth.Scientists have found tiny traces of Martian atmosphere within meteorites violently ejected from Mars, then orbiting the solar system amongst galactic debris for millions of years, before crash landing on Earth. This allowed scientists to begin studying Mars prior to launching space missions.</td>\\n    </tr>\\n    <tr>\\n      <th>6</th>\\n      <td>6</td>\\n      <td>Mars takes its name from the Roman god of war.</td>\\n      <td>Mars takes its name from the Roman god of war.The ancient Greeks called the planet Ares, after their god of war; the Romans then did likewise, associating the planet’s blood-red colour with Mars, their own god of war. Interestingly, other ancient cultures also focused on colour – to China’s astronomers it was ‘the fire star’, whilst Egyptian priests called on ‘Her Desher’, or ‘the red one’. The red colour Mars is known for is due to the rock and dust covering its surface being rich in iron.</td>\\n    </tr>\\n    <tr>\\n      <th>7</th>\\n      <td>7</td>\\n      <td>There are signs of liquid water on Mars.</td>\\n      <td>There are signs of liquid water on Mars.For years Mars has been known to have water in the form of ice. The first signs of trickling water are dark stripes or stains on crater wall and cliffs seen in satellite images. Due to Mars’ atmosphere this water would have to be salty to prevent it from freezing or vaporising.</td>\\n    </tr>\\n    <tr>\\n      <th>8</th>\\n      <td>8</td>\\n      <td>One day Mars will have a ring.</td>\\n      <td>One day Mars will have a ring.In the next 20-40 million years Mars’ largest moon Phobos will be torn apart by gravitational forces leading to the creation of a ring that could last up to 100 million years.</td>\\n    </tr>\\n  </tbody>\\n</table>'"
      ]
     },
     "execution_count": 61,
     "metadata": {},
     "output_type": "execute_result"
    }
   ],
   "source": [
    "# return the div that contains the facts\n",
    "facts_div = facts_bs.find('div', id='facts')\n",
    "\n",
    "# grab the factrs unordered list\n",
    "facts_ul = facts_div.find('ul')\n",
    "\n",
    "# create a list of list items in the ul\n",
    "facts_li = facts_ul.find_all('li')\n",
    "\n",
    "# list to store the facts\n",
    "mars_facts = []\n",
    "# dummy id\n",
    "fact_id = 0\n",
    "\n",
    "# loop through the facts, creating a dictionairy for each row, and appending to the facts list\n",
    "for fact_li in facts_li:\n",
    "    # the fact title is in the stron tag, so grab that text\n",
    "    fact_title = fact_li.find('strong').text\n",
    "    \n",
    "    # make a dictionary of the object\n",
    "    fact = {\n",
    "        'fact_id': fact_id,\n",
    "        'fact_title': fact_title,\n",
    "        'fact': fact_li.text.strip('\\n')\n",
    "    }\n",
    "    \n",
    "    # add to list\n",
    "    mars_facts.append(fact)\n",
    "    \n",
    "    # increment the id counter\n",
    "    fact_id +=1\n",
    "    \n",
    "# convert list of dictionairies to a dataframe\n",
    "facts_df = pd.DataFrame(mars_facts)\n",
    "\n",
    "# checking it out\n",
    "# facts_df.head()\n",
    "\n",
    "# create the html string for the table of facts, adding the bootstrap table classes\n",
    "facts_table = facts_df.to_html(classes='table table-striped')\n",
    "\n",
    "# testing\n",
    "facts_table\n"
   ]
  },
  {
   "cell_type": "markdown",
   "metadata": {},
   "source": [
    "### Mars Hemispheres"
   ]
  },
  {
   "cell_type": "code",
   "execution_count": 84,
   "metadata": {},
   "outputs": [],
   "source": [
    "# Using splinter, setup a Chrome browser\n",
    "browser = Browser('chrome')\n",
    "\n",
    "# navigate to image page\n",
    "browser.visit('https://astrogeology.usgs.gov/search/results?q=hemisphere+enhanced&k1=target&v1=Mars')\n",
    "\n",
    "# parse the html with some bs\n",
    "hemi_bs = bs(browser.html, 'html.parser')"
   ]
  },
  {
   "cell_type": "code",
   "execution_count": 94,
   "metadata": {},
   "outputs": [
    {
     "name": "stdout",
     "output_type": "stream",
     "text": [
      "[{'hemi_id': 0, 'title': 'Cerberus Hemisphere Enhanced', 'img_url': 'http://astropedia.astrogeology.usgs.gov/download/Mars/Viking/cerberus_enhanced.tif'}, {'hemi_id': 1, 'title': 'Schiaparelli Hemisphere Enhanced', 'img_url': 'http://astropedia.astrogeology.usgs.gov/download/Mars/Viking/schiaparelli_enhanced.tif'}, {'hemi_id': 2, 'title': 'Syrtis Major Hemisphere Enhanced', 'img_url': 'http://astropedia.astrogeology.usgs.gov/download/Mars/Viking/syrtis_major_enhanced.tif'}, {'hemi_id': 3, 'title': 'Valles Marineris Hemisphere Enhanced', 'img_url': 'http://astropedia.astrogeology.usgs.gov/download/Mars/Viking/valles_marineris_enhanced.tif'}]\n"
     ]
    }
   ],
   "source": [
    "# find the four anchor tags for each hemisphere\n",
    "hemi_as = hemi_bs.find_all('a', class_='itemLink')\n",
    "\n",
    "# counter for id\n",
    "hemi_id = 0\n",
    "\n",
    "# base url for hemisphere page\n",
    "base_url = 'https://astrogeology.usgs.gov'\n",
    "\n",
    "# list to store dicitonaries (rows)\n",
    "hemispheres = []\n",
    "\n",
    "len(hemi_as)\n",
    "\n",
    "# there are two links per hemisphere, i only want to grab one\n",
    "hemi_link_cntr = 0\n",
    "\n",
    "# list to store the hemisphere stuff\n",
    "hemispheres = []\n",
    "\n",
    "# loop through the 4 hemis\n",
    "for hemi_a in hemi_as:\n",
    "    \n",
    "    if hemi_link_cntr == 1:\n",
    "        \n",
    "        # grab this hemisphere's href (link)\n",
    "        img_url = hemi_a['href']\n",
    "    \n",
    "        # go to the hemi page\n",
    "        hemi_url = base_url + img_url\n",
    "    \n",
    "        # going to page\n",
    "        browser.visit(hemi_url)\n",
    "        \n",
    "        # bs on the hemisphere page\n",
    "        single_hemi_bs = bs(browser.html, 'html.parser')\n",
    "        \n",
    "        # find the a-tags, loop through until the one with 'original' is found\n",
    "        a_tags = single_hemi_bs.find_all('a','')\n",
    "        for a_tag in a_tags:\n",
    "            \n",
    "            a_text = a_tag.text\n",
    "            \n",
    "            if a_text == 'Original':\n",
    "                \n",
    "                img_url = a_tag['href']\n",
    "                \n",
    "       \n",
    "        # get the h2 tag with the class of \"title\"\n",
    "        title_tag = single_hemi_bs.find('h2', class_='title')\n",
    "\n",
    "        # get the text\n",
    "        title = title_tag.text\n",
    "        \n",
    "        # create the dictionary\n",
    "        hemisphere = {\n",
    "            \"hemi_id\": hemi_id,\n",
    "            \"title\": title,\n",
    "            \"img_url\": img_url\n",
    "        }\n",
    "        \n",
    "        hemispheres.append(hemisphere)\n",
    "        \n",
    "        # increment the counter\n",
    "        hemi_id += 1\n",
    "        \n",
    "        # reset the counter\n",
    "        hemi_link_cntr = 0\n",
    "    \n",
    "    else:\n",
    "        \n",
    "        # increment the counter\n",
    "        hemi_link_cntr = 1\n",
    "            \n",
    "print(hemispheres)\n"
   ]
  },
  {
   "cell_type": "code",
   "execution_count": 95,
   "metadata": {},
   "outputs": [
    {
     "data": {
      "text/html": [
       "<div>\n",
       "<style scoped>\n",
       "    .dataframe tbody tr th:only-of-type {\n",
       "        vertical-align: middle;\n",
       "    }\n",
       "\n",
       "    .dataframe tbody tr th {\n",
       "        vertical-align: top;\n",
       "    }\n",
       "\n",
       "    .dataframe thead th {\n",
       "        text-align: right;\n",
       "    }\n",
       "</style>\n",
       "<table border=\"1\" class=\"dataframe\">\n",
       "  <thead>\n",
       "    <tr style=\"text-align: right;\">\n",
       "      <th></th>\n",
       "      <th>hemi_id</th>\n",
       "      <th>title</th>\n",
       "      <th>img_url</th>\n",
       "    </tr>\n",
       "  </thead>\n",
       "  <tbody>\n",
       "    <tr>\n",
       "      <td>0</td>\n",
       "      <td>0</td>\n",
       "      <td>Cerberus Hemisphere Enhanced</td>\n",
       "      <td>http://astropedia.astrogeology.usgs.gov/downlo...</td>\n",
       "    </tr>\n",
       "    <tr>\n",
       "      <td>1</td>\n",
       "      <td>1</td>\n",
       "      <td>Schiaparelli Hemisphere Enhanced</td>\n",
       "      <td>http://astropedia.astrogeology.usgs.gov/downlo...</td>\n",
       "    </tr>\n",
       "    <tr>\n",
       "      <td>2</td>\n",
       "      <td>2</td>\n",
       "      <td>Syrtis Major Hemisphere Enhanced</td>\n",
       "      <td>http://astropedia.astrogeology.usgs.gov/downlo...</td>\n",
       "    </tr>\n",
       "    <tr>\n",
       "      <td>3</td>\n",
       "      <td>3</td>\n",
       "      <td>Valles Marineris Hemisphere Enhanced</td>\n",
       "      <td>http://astropedia.astrogeology.usgs.gov/downlo...</td>\n",
       "    </tr>\n",
       "  </tbody>\n",
       "</table>\n",
       "</div>"
      ],
      "text/plain": [
       "   hemi_id                                 title  \\\n",
       "0        0          Cerberus Hemisphere Enhanced   \n",
       "1        1      Schiaparelli Hemisphere Enhanced   \n",
       "2        2      Syrtis Major Hemisphere Enhanced   \n",
       "3        3  Valles Marineris Hemisphere Enhanced   \n",
       "\n",
       "                                             img_url  \n",
       "0  http://astropedia.astrogeology.usgs.gov/downlo...  \n",
       "1  http://astropedia.astrogeology.usgs.gov/downlo...  \n",
       "2  http://astropedia.astrogeology.usgs.gov/downlo...  \n",
       "3  http://astropedia.astrogeology.usgs.gov/downlo...  "
      ]
     },
     "execution_count": 95,
     "metadata": {},
     "output_type": "execute_result"
    }
   ],
   "source": [
    "# converting it to a dataframe just to check it out\n",
    "hemispheres_df = pd.DataFrame(hemispheres)\n",
    "\n",
    "hemispheres_df.head()"
   ]
  },
  {
   "cell_type": "code",
   "execution_count": 96,
   "metadata": {},
   "outputs": [
    {
     "name": "stdout",
     "output_type": "stream",
     "text": [
      "{'latest_news_title': 'NASA Invites Students to Name Mars 2020 Rover', 'latest_news_desc': \"Through Nov. 1, K-12 students in the U.S. are encouraged to enter an essay contest to name NASA's next Mars rover.\", 'featured_image_url': 'https://www.jpl.nasa.gov/spaceimages/images/wallpaper/PIA23634-640x350.jpg', 'featured_image_title': 'Sacra Mensa', 'facts_table': '<table border=\"1\" class=\"dataframe table table-striped\">\\n  <thead>\\n    <tr style=\"text-align: right;\">\\n      <th></th>\\n      <th>fact_id</th>\\n      <th>fact_title</th>\\n      <th>fact</th>\\n    </tr>\\n  </thead>\\n  <tbody>\\n    <tr>\\n      <th>0</th>\\n      <td>0</td>\\n      <td>Mars and Earth have approximately the same landmass.</td>\\n      <td>Mars and Earth have approximately the same landmass.Even though Mars has only 15% of the Earth’s volume and just over 10% of the Earth’s mass, around two thirds of the Earth’s surface is covered in water. Martian surface gravity is only 37% of the Earth’s (meaning you could leap nearly three times higher on Mars).</td>\\n    </tr>\\n    <tr>\\n      <th>1</th>\\n      <td>1</td>\\n      <td>Mars is home to the tallest mountain in the solar system.</td>\\n      <td>Mars is home to the tallest mountain in the solar system.Olympus Mons, a shield volcano, is 21km high and 600km in diameter. Despite having formed over billions of years, evidence from volcanic lava flows is so recent many scientists believe it could still be active.</td>\\n    </tr>\\n    <tr>\\n      <th>2</th>\\n      <td>2</td>\\n      <td>Only 18 missions to Mars have been successful.</td>\\n      <td>Only 18 missions to Mars have been successful.As of September 2014 there have been 40 missions to Mars, including orbiters, landers and rovers but not counting flybys. The most recent arrivals include the Mars Curiosity mission in 2012, the MAVEN mission, which arrived on September 22, 2014, followed by the Indian Space Research Organization’s MOM Mangalyaan orbiter, which arrived on September 24, 2014. The next missions to arrive will be the European Space Agency’s ExoMars mission, comprising an orbiter, lander, and a rover, followed by NASA’s InSight robotic lander mission, slated for launch in March 2016 and a planned arrival in September, 2016.</td>\\n    </tr>\\n    <tr>\\n      <th>3</th>\\n      <td>3</td>\\n      <td>Mars has the largest dust storms in the solar system.</td>\\n      <td>Mars has the largest dust storms in the solar system.They can last for months and cover the entire planet. The seasons are extreme because its elliptical (oval-shaped) orbital path around the Sun is more elongated than most other planets in the solar system.</td>\\n    </tr>\\n    <tr>\\n      <th>4</th>\\n      <td>4</td>\\n      <td>On Mars the Sun appears about half the size as it does on Earth.</td>\\n      <td>On Mars the Sun appears about half the size as it does on Earth.At the closest point to the Sun, the Martian southern hemisphere leans towards the Sun, causing a short, intensely hot summer, while the northern hemisphere endures a brief, cold winter: at its farthest point from the Sun, the Martian northern hemisphere leans towards the Sun, causing a long, mild summer, while the southern hemisphere endures a lengthy, cold winter.</td>\\n    </tr>\\n    <tr>\\n      <th>5</th>\\n      <td>5</td>\\n      <td>Pieces of Mars have fallen to Earth.</td>\\n      <td>Pieces of Mars have fallen to Earth.Scientists have found tiny traces of Martian atmosphere within meteorites violently ejected from Mars, then orbiting the solar system amongst galactic debris for millions of years, before crash landing on Earth. This allowed scientists to begin studying Mars prior to launching space missions.</td>\\n    </tr>\\n    <tr>\\n      <th>6</th>\\n      <td>6</td>\\n      <td>Mars takes its name from the Roman god of war.</td>\\n      <td>Mars takes its name from the Roman god of war.The ancient Greeks called the planet Ares, after their god of war; the Romans then did likewise, associating the planet’s blood-red colour with Mars, their own god of war. Interestingly, other ancient cultures also focused on colour – to China’s astronomers it was ‘the fire star’, whilst Egyptian priests called on ‘Her Desher’, or ‘the red one’. The red colour Mars is known for is due to the rock and dust covering its surface being rich in iron.</td>\\n    </tr>\\n    <tr>\\n      <th>7</th>\\n      <td>7</td>\\n      <td>There are signs of liquid water on Mars.</td>\\n      <td>There are signs of liquid water on Mars.For years Mars has been known to have water in the form of ice. The first signs of trickling water are dark stripes or stains on crater wall and cliffs seen in satellite images. Due to Mars’ atmosphere this water would have to be salty to prevent it from freezing or vaporising.</td>\\n    </tr>\\n    <tr>\\n      <th>8</th>\\n      <td>8</td>\\n      <td>One day Mars will have a ring.</td>\\n      <td>One day Mars will have a ring.In the next 20-40 million years Mars’ largest moon Phobos will be torn apart by gravitational forces leading to the creation of a ring that could last up to 100 million years.</td>\\n    </tr>\\n  </tbody>\\n</table>', 'hemispheres': [{'hemi_id': 0, 'title': 'Cerberus Hemisphere Enhanced', 'img_url': 'http://astropedia.astrogeology.usgs.gov/download/Mars/Viking/cerberus_enhanced.tif'}, {'hemi_id': 1, 'title': 'Schiaparelli Hemisphere Enhanced', 'img_url': 'http://astropedia.astrogeology.usgs.gov/download/Mars/Viking/schiaparelli_enhanced.tif'}, {'hemi_id': 2, 'title': 'Syrtis Major Hemisphere Enhanced', 'img_url': 'http://astropedia.astrogeology.usgs.gov/download/Mars/Viking/syrtis_major_enhanced.tif'}, {'hemi_id': 3, 'title': 'Valles Marineris Hemisphere Enhanced', 'img_url': 'http://astropedia.astrogeology.usgs.gov/download/Mars/Viking/valles_marineris_enhanced.tif'}]}\n"
     ]
    }
   ],
   "source": [
    "mars_updates = {\n",
    "    'latest_news_title': article_title,\n",
    "    'latest_news_desc': article_p,\n",
    "    'featured_image_url': featured_image_url,\n",
    "    'featured_image_title': featured_image_title,\n",
    "    'facts_table': facts_table,\n",
    "    'hemispheres' : hemispheres\n",
    "}\n",
    "\n",
    "print(mars_updates)"
   ]
  },
  {
   "cell_type": "code",
   "execution_count": null,
   "metadata": {},
   "outputs": [],
   "source": []
  }
 ],
 "metadata": {
  "kernelspec": {
   "display_name": "Python 3",
   "language": "python",
   "name": "python3"
  },
  "language_info": {
   "codemirror_mode": {
    "name": "ipython",
    "version": 3
   },
   "file_extension": ".py",
   "mimetype": "text/x-python",
   "name": "python",
   "nbconvert_exporter": "python",
   "pygments_lexer": "ipython3",
   "version": "3.7.4"
  }
 },
 "nbformat": 4,
 "nbformat_minor": 4
}
