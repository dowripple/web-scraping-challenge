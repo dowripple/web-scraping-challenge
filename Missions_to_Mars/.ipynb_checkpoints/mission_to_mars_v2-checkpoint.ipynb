{
 "cells": [
  {
   "cell_type": "markdown",
   "metadata": {},
   "source": [
    "# Mission To Mars - Homework\n",
    "## by Michael Dowlin\n",
    "### 1/12/2020"
   ]
  },
  {
   "cell_type": "markdown",
   "metadata": {},
   "source": [
    "## Import Dependencies"
   ]
  },
  {
   "cell_type": "code",
   "execution_count": 1,
   "metadata": {},
   "outputs": [],
   "source": [
    "import pandas as pd\n",
    "from bs4 import BeautifulSoup as bs\n",
    "import requests\n",
    "from splinter import Browser"
   ]
  },
  {
   "cell_type": "markdown",
   "metadata": {},
   "source": [
    "## Scraping\n",
    "Scrape the Mars website and setup the bs, lol"
   ]
  },
  {
   "cell_type": "code",
   "execution_count": 2,
   "metadata": {},
   "outputs": [],
   "source": [
    "# Defining the url for the mars website\n",
    "url = 'https://mars.nasa.gov/news/'\n",
    "\n",
    "# return the rendered html\n",
    "response = requests.get(url)\n",
    "\n",
    "# create the bs object\n",
    "space_bs = bs(response.text, 'html.parser')"
   ]
  },
  {
   "cell_type": "markdown",
   "metadata": {},
   "source": [
    "### Nasa Mars News\n",
    "#### Using bs to look at article divs\n",
    "To get the first article's title, I used the in-browser tool to find the class \"content_title\", which is used by the div containing the news article title.  "
   ]
  },
  {
   "cell_type": "code",
   "execution_count": 3,
   "metadata": {},
   "outputs": [
    {
     "data": {
      "text/plain": [
       "<div class=\"content_title\">\n",
       "<a href=\"/news/8508/nasa-invites-students-to-name-mars-2020-rover/\">\n",
       "NASA Invites Students to Name Mars 2020 Rover\n",
       "</a>\n",
       "</div>"
      ]
     },
     "execution_count": 3,
     "metadata": {},
     "output_type": "execute_result"
    }
   ],
   "source": [
    "# return the first article div\n",
    "title_div = space_bs.find('div', class_='content_title')\n",
    "\n",
    "# check out the results...\n",
    "title_div"
   ]
  },
  {
   "cell_type": "markdown",
   "metadata": {},
   "source": [
    "#### Get the article title"
   ]
  },
  {
   "cell_type": "code",
   "execution_count": 4,
   "metadata": {},
   "outputs": [
    {
     "name": "stdout",
     "output_type": "stream",
     "text": [
      "The first new's article title is: \"NASA Invites Students to Name Mars 2020 Rover\"\n"
     ]
    }
   ],
   "source": [
    "# grab the text from the only anchor (a) tag in the div, stripping the new line\n",
    "article_title = title_div.a.text.strip('\\n')\n",
    "\n",
    "# printing out the top article title\n",
    "print(f'The first new\\'s article title is: \"{article_title}\"')"
   ]
  },
  {
   "cell_type": "markdown",
   "metadata": {},
   "source": [
    "#### Now get the paragraph description, and paragraph text"
   ]
  },
  {
   "cell_type": "code",
   "execution_count": 5,
   "metadata": {},
   "outputs": [
    {
     "name": "stdout",
     "output_type": "stream",
     "text": [
      "The paragraph text describing the article is: \n",
      "\"Through Nov. 1, K-12 students in the U.S. are encouraged to enter an essay contest to name NASA's next Mars rover.\"\n"
     ]
    }
   ],
   "source": [
    "# div containing the paragraph, found by looking for the class \"rollover_description_inner\"\n",
    "p_div = space_bs.find('div',class_='rollover_description_inner')\n",
    "\n",
    "# grab the text from the div, stripping out the new line\n",
    "article_p = p_div.text.strip('\\n')\n",
    "\n",
    "# printing the paragraph for the article\n",
    "print(f'The paragraph text describing the article is: \\n\"{article_p}\"')"
   ]
  },
  {
   "cell_type": "markdown",
   "metadata": {},
   "source": [
    "### JPL Mars Space Images - Featured Image\n",
    "Using a chrome-driver for the splinter portion, and bs to get the image and stuff"
   ]
  },
  {
   "cell_type": "code",
   "execution_count": 9,
   "metadata": {},
   "outputs": [],
   "source": [
    "# Using splinter, setup a Chrome browser\n",
    "browser = Browser('chrome')\n",
    "\n",
    "# navigate to image page\n",
    "browser.visit('https://www.jpl.nasa.gov/spaceimages/?search=&category=Mars')\n",
    "\n",
    "# # parse the html with some bs\n",
    "image_bs = bs(browser.html, 'html.parser')\n",
    "# image_bs"
   ]
  },
  {
   "cell_type": "markdown",
   "metadata": {},
   "source": [
    "#### Getting the image url for the variable \"featured_image_url\""
   ]
  },
  {
   "cell_type": "code",
   "execution_count": 21,
   "metadata": {},
   "outputs": [
    {
     "name": "stdout",
     "output_type": "stream",
     "text": [
      "Featured image\n",
      "Title: Sacra Mensa\n",
      "URL: https://www.jpl.nasa.gov/spaceimages/images/wallpaper/PIA23634-640x350.jpg\n"
     ]
    }
   ],
   "source": [
    "# grab the image div\n",
    "img_div = image_bs.find('div', class_=\"img\")\n",
    "\n",
    "# find the img object\n",
    "img = img_div.find('img')\n",
    "\n",
    "# get the image object's source\n",
    "img_src = img['src']\n",
    "\n",
    "# checking out the string, turns out a partial URL path\n",
    "# print(img_src)\n",
    "\n",
    "# since it is not a full URL path, add the base (jpl.nasa.gov) to the source\n",
    "# setting up the image base url\n",
    "base_url = 'https://www.jpl.nasa.gov'\n",
    "\n",
    "# setting the featured image url (base + image_id)\n",
    "featured_image_url = base_url + img_src\n",
    "\n",
    "# grabbing the image title too, it may come in handy later\n",
    "featured_image_title = img['title']\n",
    "\n",
    "# checking work\n",
    "print(f'Featured image\\nTitle: {featured_image_title}\\nURL: {featured_image_url}')"
   ]
  },
  {
   "cell_type": "markdown",
   "metadata": {},
   "source": [
    "### Mars Facts\n"
   ]
  },
  {
   "cell_type": "code",
   "execution_count": 29,
   "metadata": {},
   "outputs": [],
   "source": [
    "# Using splinter, setup a Chrome browser\n",
    "browser = Browser('chrome')\n",
    "\n",
    "# navigate to image page\n",
    "browser.visit('https://space-facts.com/mars/')\n",
    "\n",
    "# # parse the html with some bs\n",
    "facts_bs = bs(browser.html, 'html.parser')"
   ]
  },
  {
   "cell_type": "code",
   "execution_count": 28,
   "metadata": {},
   "outputs": [
    {
     "name": "stdout",
     "output_type": "stream",
     "text": [
      "None\n"
     ]
    }
   ],
   "source": [
    "# return the first article div\n",
    "facts_div = facts_bs.find('div', class_='facts')\n",
    "\n",
    "# check out the results...\n",
    "print(facts_div)"
   ]
  },
  {
   "cell_type": "code",
   "execution_count": null,
   "metadata": {},
   "outputs": [],
   "source": []
  }
 ],
 "metadata": {
  "kernelspec": {
   "display_name": "Python 3",
   "language": "python",
   "name": "python3"
  },
  "language_info": {
   "codemirror_mode": {
    "name": "ipython",
    "version": 3
   },
   "file_extension": ".py",
   "mimetype": "text/x-python",
   "name": "python",
   "nbconvert_exporter": "python",
   "pygments_lexer": "ipython3",
   "version": "3.7.4"
  }
 },
 "nbformat": 4,
 "nbformat_minor": 4
}
